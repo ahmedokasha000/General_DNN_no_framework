{
 "cells": [
  {
   "cell_type": "code",
   "execution_count": 1,
   "metadata": {},
   "outputs": [],
   "source": [
    "import h5py\n",
    "import numpy as np\n",
    "import matplotlib.pyplot as plt\n",
    "import helper_functions as fx"
   ]
  },
  {
   "cell_type": "code",
   "execution_count": 2,
   "metadata": {},
   "outputs": [],
   "source": [
    "\n",
    "import sklearn\n",
    "import sklearn.datasets\n",
    "import sklearn.linear_model\n",
    "import scipy.io\n",
    "from sklearn.datasets import load_digits"
   ]
  },
  {
   "cell_type": "code",
   "execution_count": 3,
   "metadata": {},
   "outputs": [
    {
     "name": "stdout",
     "output_type": "stream",
     "text": [
      "shape of x = (64, 1280)\n",
      "shape of y = (10, 1280)\n"
     ]
    }
   ],
   "source": [
    "digits = load_digits()\n",
    "x=digits.data.T\n",
    "y=np.zeros((10,x.shape[1]))\n",
    "for i in range(y.shape[1]):\n",
    "    y[digits.target[i],i]=1\n",
    "tr_set_x=x[:,:1280]\n",
    "tr_set_y=y[:,:1280]\n",
    "ts_set_x=x[:,1280:]\n",
    "ts_set_y=y[:,1280:]\n",
    "print(\"shape of x =\",tr_set_x.shape)\n",
    "print(\"shape of y =\",tr_set_y.shape)"
   ]
  },
  {
   "cell_type": "code",
   "execution_count": 4,
   "metadata": {},
   "outputs": [],
   "source": [
    "# def load_2D_dataset():\n",
    "#     data = scipy.io.loadmat('data.mat')\n",
    "#     train_X = data['X'].T\n",
    "#     train_Y = data['y'].T\n",
    "#     test_X = data['Xval'].T\n",
    "#     test_Y = data['yval'].T\n",
    "\n",
    "#     plt.scatter(train_X[0, :], train_X[1, :], c=train_Y, s=40, cmap=plt.cm.Spectral);\n",
    "    \n",
    "#     return train_X, train_Y, test_X, test_Y\n",
    "\n",
    "# tr_set_x,tr_set_y,ts_set_x,ts_set_y=load_2D_dataset()\n",
    "# print(\"X_train shape= \",tr_set_x.shape)\n",
    "# print(\"X_test shape= \",ts_set_x.shape)"
   ]
  },
  {
   "cell_type": "code",
   "execution_count": 7,
   "metadata": {},
   "outputs": [
    {
     "name": "stdout",
     "output_type": "stream",
     "text": [
      "cost = 12.27043498463754\n",
      "train accuracy: 6.09375 %\n",
      "test accuracy: 7.930367504835587 %\n",
      "cost = 0.5408487516336975\n",
      "cost = 0.19318238569269544\n",
      "cost = 0.10109205038499092\n",
      "cost = 0.059996695138703836\n",
      "train accuracy: 99.375 %\n",
      "test accuracy: 88.20116054158608 %\n",
      "cost = 0.038311075318419055\n",
      "cost = 0.02607108296970312\n",
      "cost = 0.018509535468026625\n",
      "cost = 0.013282729112259056\n",
      "train accuracy: 100.0 %\n",
      "test accuracy: 89.74854932301741 %\n",
      "cost = 0.009808336979689868\n",
      "cost = 0.007295248452129081\n",
      "cost = 0.005488126080456154\n",
      "cost = 0.004141738181338362\n",
      "train accuracy: 100.0 %\n",
      "test accuracy: 91.29593810444874 %\n",
      "cost = 0.003169217979729134\n",
      "cost = 0.002428574293649492\n",
      "cost = 0.0018380021374555036\n",
      "cost = 0.0014003064745045295\n",
      "train accuracy: 100.0 %\n",
      "test accuracy: 91.48936170212767 %\n",
      "cost = 0.0010744605075794335\n",
      "cost = 0.0008282104774655604\n",
      "cost = 0.0006506082305449454\n",
      "train accuracy: 100.0 %\n",
      "test accuracy: 91.68278529980658 %\n"
     ]
    },
    {
     "data": {
      "image/png": "[encoded data removed]",
      "text/plain": [
       "<Figure size 432x288 with 1 Axes>"
      ]
     },
     "metadata": {
      "needs_background": "light"
     },
     "output_type": "display_data"
    }
   ],
   "source": [
    "layer_parameters={\"dim\":[64,32,10],\"activation\":[\"relu\",\"relu\",\"softmax\"]}\n",
    "params,cache=fx.model (tr_set_x,tr_set_y,ts_set_x,ts_set_y,layer_parameters,\n",
    "                       learning_rate=0.0001,iterations=1000,keepprob=1.0,lambd=0.0,batch_size=128,\n",
    "                       optimization=\"Adam\",beta1=0.9,beta2=0.999)"
   ]
  },
  {
   "cell_type": "code",
   "execution_count": 14,
   "metadata": {},
   "outputs": [
    {
     "data": {
      "text/plain": [
       "(64, 1)"
      ]
     },
     "execution_count": 14,
     "metadata": {},
     "output_type": "execute_result"
    }
   ],
   "source": [
    "example=ts_set_x[:,4]\n",
    "reshaped=np.reshape(example,(64,1))\n",
    "reshaped.shape"
   ]
  },
  {
   "cell_type": "code",
   "execution_count": 15,
   "metadata": {},
   "outputs": [
    {
     "data": {
      "text/plain": [
       "array([[0],\n",
       "       [0],\n",
       "       [0],\n",
       "       [0],\n",
       "       [0],\n",
       "       [0],\n",
       "       [0],\n",
       "       [0],\n",
       "       [1],\n",
       "       [0]])"
      ]
     },
     "execution_count": 15,
     "metadata": {},
     "output_type": "execute_result"
    }
   ],
   "source": [
    "fx.test(reshaped,params,layer_parameters)"
   ]
  },
  {
   "cell_type": "code",
   "execution_count": 16,
   "metadata": {},
   "outputs": [
    {
     "data": {
      "text/plain": [
       "array([0., 0., 0., 0., 0., 0., 0., 0., 1., 0.])"
      ]
     },
     "execution_count": 16,
     "metadata": {},
     "output_type": "execute_result"
    }
   ],
   "source": [
    "ts_set_y[:,4]"
   ]
  },
  {
   "cell_type": "code",
   "execution_count": null,
   "metadata": {},
   "outputs": [],
   "source": []
  }
 ],
 "metadata": {
  "kernelspec": {
   "display_name": "Python 3",
   "language": "python",
   "name": "python3"
  },
  "language_info": {
   "codemirror_mode": {
    "name": "ipython",
    "version": 3
   },
   "file_extension": ".py",
   "mimetype": "text/x-python",
   "name": "python",
   "nbconvert_exporter": "python",
   "pygments_lexer": "ipython3",
   "version": "3.7.6"
  }
 },
 "nbformat": 4,
 "nbformat_minor": 4
}
